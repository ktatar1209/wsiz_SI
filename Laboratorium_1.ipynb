{
 "cells": [
  {
   "cell_type": "code",
   "execution_count": 1,
   "metadata": {},
   "outputs": [
    {
     "name": "stdout",
     "output_type": "stream",
     "text": [
      "1\n",
      "2\n",
      "3\n",
      "[1]\n",
      "[2, 3]\n"
     ]
    }
   ],
   "source": [
    "# Tak wygląda komentarz w Pythonie\n",
    "\n",
    "# Deklaracja zmiennej typu lista\n",
    "\n",
    "lista1 = list()\n",
    "\n",
    "# Inny sposób tworzenia listy\n",
    "\n",
    "lista2 = []\n",
    "\n",
    "# Dodawanie elementów\n",
    "\n",
    "lista2.append(1)\n",
    "lista2.append(2)\n",
    "lista2.append(3)\n",
    "\n",
    "# Iteracja\n",
    "\n",
    "for elem in lista2:\n",
    "    print(elem)\n",
    "\n",
    "    \n",
    "# Wybór podzbioru elementów\n",
    "\n",
    "print(lista2[:1])\n",
    "print(lista2[-2:])"
   ]
  },
  {
   "cell_type": "code",
   "execution_count": null,
   "metadata": {},
   "outputs": [],
   "source": [
    "# Tworzenie funkcji\n",
    "\n",
    "def funkcja_przykladowa(a, b):\n",
    "    return a+b\n",
    "\n",
    "# Użycie przykładowe\n",
    "print(funkcja_przykladowa(2, 3))"
   ]
  },
  {
   "cell_type": "code",
   "execution_count": 2,
   "metadata": {},
   "outputs": [
    {
     "name": "stdout",
     "output_type": "stream",
     "text": [
      "7.0\n",
      "5.0\n"
     ]
    }
   ],
   "source": [
    "# Importowanie modułów, aliasowanie, używanie funkcji z modułu\n",
    "\n",
    "import numpy as np\n",
    "\n",
    "lista_dla_numpy = [1, 2, 5, 10, 17]\n",
    "print(np.mean(lista_dla_numpy))\n",
    "print(np.median(lista_dla_numpy))"
   ]
  },
  {
   "cell_type": "code",
   "execution_count": 126,
   "metadata": {},
   "outputs": [
    {
     "data": {
      "text/plain": [
       "[{'no': '169/A/NBP/2019', 'effectiveDate': '2019-09-02', 'mid': 3.9819},\n",
       " {'no': '170/A/NBP/2019', 'effectiveDate': '2019-09-03', 'mid': 3.9882},\n",
       " {'no': '171/A/NBP/2019', 'effectiveDate': '2019-09-04', 'mid': 3.9414},\n",
       " {'no': '172/A/NBP/2019', 'effectiveDate': '2019-09-05', 'mid': 3.933},\n",
       " {'no': '173/A/NBP/2019', 'effectiveDate': '2019-09-06', 'mid': 3.9315},\n",
       " {'no': '174/A/NBP/2019', 'effectiveDate': '2019-09-09', 'mid': 3.931},\n",
       " {'no': '175/A/NBP/2019', 'effectiveDate': '2019-09-10', 'mid': 3.9273},\n",
       " {'no': '176/A/NBP/2019', 'effectiveDate': '2019-09-11', 'mid': 3.9324},\n",
       " {'no': '177/A/NBP/2019', 'effectiveDate': '2019-09-12', 'mid': 3.9362},\n",
       " {'no': '178/A/NBP/2019', 'effectiveDate': '2019-09-13', 'mid': 3.912},\n",
       " {'no': '179/A/NBP/2019', 'effectiveDate': '2019-09-16', 'mid': 3.9116},\n",
       " {'no': '180/A/NBP/2019', 'effectiveDate': '2019-09-17', 'mid': 3.9412},\n",
       " {'no': '181/A/NBP/2019', 'effectiveDate': '2019-09-18', 'mid': 3.9322},\n",
       " {'no': '182/A/NBP/2019', 'effectiveDate': '2019-09-19', 'mid': 3.9267},\n",
       " {'no': '183/A/NBP/2019', 'effectiveDate': '2019-09-20', 'mid': 3.9319},\n",
       " {'no': '184/A/NBP/2019', 'effectiveDate': '2019-09-23', 'mid': 3.9983},\n",
       " {'no': '185/A/NBP/2019', 'effectiveDate': '2019-09-24', 'mid': 3.9838},\n",
       " {'no': '186/A/NBP/2019', 'effectiveDate': '2019-09-25', 'mid': 3.9856},\n",
       " {'no': '187/A/NBP/2019', 'effectiveDate': '2019-09-26', 'mid': 4.0092},\n",
       " {'no': '188/A/NBP/2019', 'effectiveDate': '2019-09-27', 'mid': 4.0154},\n",
       " {'no': '189/A/NBP/2019', 'effectiveDate': '2019-09-30', 'mid': 4.0}]"
      ]
     },
     "execution_count": 126,
     "metadata": {},
     "output_type": "execute_result"
    }
   ],
   "source": [
    "# Wczytywanie danych\n",
    "\n",
    "import pandas as pd\n",
    "\n",
    "# Dwie metody wczytania bezpośrednio z pandas\n",
    "# pd.read_csv('./archiwum_tab_a_2019.csv')\n",
    "# pd.read_json('http://api.nbp.pl/api/exchangerates/rates/A/USD/2019-09-01/2019-09-30/')\n",
    "\n",
    "import requests\n",
    "\n",
    "currency_req = requests.get('http://api.nbp.pl/api/exchangerates/rates/A/USD/2019-09-01/2019-09-30/')\n",
    "\n",
    "currency_data = currency_req.json()\n",
    "currency_data['rates']"
   ]
  },
  {
   "cell_type": "code",
   "execution_count": 122,
   "metadata": {},
   "outputs": [
    {
     "data": {
      "text/html": [
       "<div>\n",
       "<style scoped>\n",
       "    .dataframe tbody tr th:only-of-type {\n",
       "        vertical-align: middle;\n",
       "    }\n",
       "\n",
       "    .dataframe tbody tr th {\n",
       "        vertical-align: top;\n",
       "    }\n",
       "\n",
       "    .dataframe thead th {\n",
       "        text-align: right;\n",
       "    }\n",
       "</style>\n",
       "<table border=\"1\" class=\"dataframe\">\n",
       "  <thead>\n",
       "    <tr style=\"text-align: right;\">\n",
       "      <th></th>\n",
       "      <th>effectiveDate</th>\n",
       "      <th>mid</th>\n",
       "      <th>no</th>\n",
       "    </tr>\n",
       "  </thead>\n",
       "  <tbody>\n",
       "    <tr>\n",
       "      <th>0</th>\n",
       "      <td>2019-09-02</td>\n",
       "      <td>3.9819</td>\n",
       "      <td>169/A/NBP/2019</td>\n",
       "    </tr>\n",
       "    <tr>\n",
       "      <th>1</th>\n",
       "      <td>2019-09-03</td>\n",
       "      <td>3.9882</td>\n",
       "      <td>170/A/NBP/2019</td>\n",
       "    </tr>\n",
       "    <tr>\n",
       "      <th>2</th>\n",
       "      <td>2019-09-04</td>\n",
       "      <td>3.9414</td>\n",
       "      <td>171/A/NBP/2019</td>\n",
       "    </tr>\n",
       "    <tr>\n",
       "      <th>3</th>\n",
       "      <td>2019-09-05</td>\n",
       "      <td>3.9330</td>\n",
       "      <td>172/A/NBP/2019</td>\n",
       "    </tr>\n",
       "    <tr>\n",
       "      <th>4</th>\n",
       "      <td>2019-09-06</td>\n",
       "      <td>3.9315</td>\n",
       "      <td>173/A/NBP/2019</td>\n",
       "    </tr>\n",
       "  </tbody>\n",
       "</table>\n",
       "</div>"
      ],
      "text/plain": [
       "  effectiveDate     mid              no\n",
       "0    2019-09-02  3.9819  169/A/NBP/2019\n",
       "1    2019-09-03  3.9882  170/A/NBP/2019\n",
       "2    2019-09-04  3.9414  171/A/NBP/2019\n",
       "3    2019-09-05  3.9330  172/A/NBP/2019\n",
       "4    2019-09-06  3.9315  173/A/NBP/2019"
      ]
     },
     "execution_count": 122,
     "metadata": {},
     "output_type": "execute_result"
    }
   ],
   "source": [
    "kursy_usd_wrzesien = pd.DataFrame.from_dict(currency_data['rates'])\n",
    "kursy_usd_wrzesien.head()\n",
    "\n",
    "# inne użyteczne polecenia do badania DataFrame: info, describe, value_counts"
   ]
  },
  {
   "cell_type": "code",
   "execution_count": 24,
   "metadata": {},
   "outputs": [
    {
     "ename": "NameError",
     "evalue": "name 'kursy_usd_wrzesien' is not defined",
     "output_type": "error",
     "traceback": [
      "\u001b[1;31m---------------------------------------------------------------------------\u001b[0m",
      "\u001b[1;31mNameError\u001b[0m                                 Traceback (most recent call last)",
      "\u001b[1;32m<ipython-input-24-e41b53c1f643>\u001b[0m in \u001b[0;36m<module>\u001b[1;34m\u001b[0m\n\u001b[0;32m      3\u001b[0m \u001b[1;32mimport\u001b[0m \u001b[0mmatplotlib\u001b[0m\u001b[1;33m.\u001b[0m\u001b[0mpyplot\u001b[0m \u001b[1;32mas\u001b[0m \u001b[0mplt\u001b[0m\u001b[1;33m\u001b[0m\u001b[1;33m\u001b[0m\u001b[0m\n\u001b[0;32m      4\u001b[0m \u001b[1;33m\u001b[0m\u001b[0m\n\u001b[1;32m----> 5\u001b[1;33m \u001b[0mdane_wykres\u001b[0m \u001b[1;33m=\u001b[0m \u001b[0mkursy_usd_wrzesien\u001b[0m\u001b[1;33m.\u001b[0m\u001b[0mset_index\u001b[0m\u001b[1;33m(\u001b[0m\u001b[1;33m[\u001b[0m\u001b[1;34m'effectiveDate'\u001b[0m\u001b[1;33m]\u001b[0m\u001b[1;33m)\u001b[0m\u001b[1;33m[\u001b[0m\u001b[1;34m'mid'\u001b[0m\u001b[1;33m]\u001b[0m\u001b[1;33m\u001b[0m\u001b[1;33m\u001b[0m\u001b[0m\n\u001b[0m\u001b[0;32m      6\u001b[0m \u001b[1;33m\u001b[0m\u001b[0m\n\u001b[0;32m      7\u001b[0m \u001b[0mplt\u001b[0m\u001b[1;33m.\u001b[0m\u001b[0mplot\u001b[0m\u001b[1;33m(\u001b[0m\u001b[0mdane_wykres\u001b[0m\u001b[1;33m)\u001b[0m\u001b[1;33m\u001b[0m\u001b[1;33m\u001b[0m\u001b[0m\n",
      "\u001b[1;31mNameError\u001b[0m: name 'kursy_usd_wrzesien' is not defined"
     ]
    }
   ],
   "source": [
    "# Wykresy\n",
    "\n",
    "import matplotlib.pyplot as plt\n",
    "\n",
    "dane_wykres = kursy_usd_wrzesien.set_index(['effectiveDate'])['mid']\n",
    "\n",
    "plt.plot(dane_wykres)\n",
    "plt.show()"
   ]
  },
  {
   "cell_type": "code",
   "execution_count": null,
   "metadata": {},
   "outputs": [],
   "source": [
    "# Zadanie 1\n",
    "# 1. Napisz funkcję do wczytywania waluty nbp z zadanego okresu (wszystko przekazywane jako parametr)\n",
    "#    dowolny ze sposobów (plik csv, read_json, dowolne inne)\n",
    "# 2. Używając stworzonej funkcji wczytaj dane dwóch wybranych przez siebie kursów\n",
    "# 3. Zbadaj wczytane dane za pomocą wybranych poleceń, oczyść jeżeli to konieczne i ustaw indeksy na datę.\n",
    "#    Plus za konwersję do typu data/czas\n",
    "# 4. Użyj funkcji corrcoef z pakietu numpy żeby obliczyć wzajemną korelację wybranych kursów\n",
    "# 5. Zweryfikuj związek z punktu wyżej rysując wykresy obydwu wybranych przez siebie walut\n",
    "#    Plus za wykorzystanie funkcji plt.subplot()"
   ]
  },
  {
   "cell_type": "code",
   "execution_count": 3,
   "metadata": {},
   "outputs": [
    {
     "name": "stdout",
     "output_type": "stream",
     "text": [
      "8\n",
      "8\n",
      "[2, 3, 6, 11, 18]\n",
      "[10, 17]\n",
      "35\n"
     ]
    }
   ],
   "source": [
    "# Dodatek:\n",
    "# Wyrażenia lambda\n",
    "\n",
    "def prosta_funkcja(x):\n",
    "    return x+1\n",
    "\n",
    "prosta_funkcja_2 = lambda x: x+1\n",
    "\n",
    "print(prosta_funkcja(7))\n",
    "print(prosta_funkcja_2(7))\n",
    "\n",
    "# Obiekty map, filter, reduce\n",
    "\n",
    "a = map(lambda x: x+1, lista_dla_numpy)\n",
    "print(list(a))\n",
    "b = filter(lambda x: x>7, lista_dla_numpy)\n",
    "print(list(b))\n",
    "\n",
    "from functools import reduce\n",
    "\n",
    "c = reduce(lambda x, y: x+y, lista_dla_numpy)\n",
    "print(c)"
   ]
  },
  {
   "cell_type": "code",
   "execution_count": 5,
   "metadata": {},
   "outputs": [
    {
     "ename": "NameError",
     "evalue": "name 'dane_wykres' is not defined",
     "output_type": "error",
     "traceback": [
      "\u001b[1;31m---------------------------------------------------------------------------\u001b[0m",
      "\u001b[1;31mNameError\u001b[0m                                 Traceback (most recent call last)",
      "\u001b[1;32m<ipython-input-5-5b28b755f505>\u001b[0m in \u001b[0;36m<module>\u001b[1;34m\u001b[0m\n\u001b[0;32m      2\u001b[0m \u001b[1;31m# Prosta regresja liniowa\u001b[0m\u001b[1;33m\u001b[0m\u001b[1;33m\u001b[0m\u001b[1;33m\u001b[0m\u001b[0m\n\u001b[0;32m      3\u001b[0m \u001b[1;33m\u001b[0m\u001b[0m\n\u001b[1;32m----> 4\u001b[1;33m \u001b[0mx\u001b[0m \u001b[1;33m=\u001b[0m \u001b[0mnp\u001b[0m\u001b[1;33m.\u001b[0m\u001b[0marange\u001b[0m\u001b[1;33m(\u001b[0m\u001b[0mlen\u001b[0m\u001b[1;33m(\u001b[0m\u001b[0mdane_wykres\u001b[0m\u001b[1;33m)\u001b[0m\u001b[1;33m,\u001b[0m \u001b[0mdtype\u001b[0m\u001b[1;33m=\u001b[0m\u001b[0mint\u001b[0m\u001b[1;33m)\u001b[0m\u001b[1;33m\u001b[0m\u001b[1;33m\u001b[0m\u001b[0m\n\u001b[0m\u001b[0;32m      5\u001b[0m \u001b[0ma\u001b[0m\u001b[1;33m,\u001b[0m \u001b[0mb\u001b[0m \u001b[1;33m=\u001b[0m \u001b[0mnp\u001b[0m\u001b[1;33m.\u001b[0m\u001b[0mpolyfit\u001b[0m\u001b[1;33m(\u001b[0m\u001b[0mx\u001b[0m\u001b[1;33m,\u001b[0m \u001b[0mdane_wykres\u001b[0m\u001b[1;33m,\u001b[0m \u001b[1;36m1\u001b[0m\u001b[1;33m)\u001b[0m\u001b[1;33m\u001b[0m\u001b[1;33m\u001b[0m\u001b[0m\n\u001b[0;32m      6\u001b[0m \u001b[1;33m\u001b[0m\u001b[0m\n",
      "\u001b[1;31mNameError\u001b[0m: name 'dane_wykres' is not defined"
     ]
    }
   ],
   "source": [
    "# Dodatek 2:\n",
    "# Prosta regresja liniowa\n",
    "\n",
    "x = np.arange(len(dane_wykres), dtype=int)\n",
    "a, b = np.polyfit(x, dane_wykres, 1)\n",
    "\n",
    "# matematyka, szkoła średnia\n",
    "y = a*x+b\n",
    "\n",
    "plt.plot(x, y)\n",
    "plt.plot(dane_wykres)\n",
    "plt.show()"
   ]
  },
  {
   "cell_type": "code",
   "execution_count": 167,
   "metadata": {},
   "outputs": [
    {
     "name": "stdout",
     "output_type": "stream",
     "text": [
      "  effectiveDate     mid              no\n",
      "0    2019-09-02  4.3691  169/A/NBP/2019\n",
      "1    2019-09-03  4.3667  170/A/NBP/2019\n",
      "2    2019-09-04  4.3385  171/A/NBP/2019\n",
      "3    2019-09-05  4.3409  172/A/NBP/2019\n",
      "4    2019-09-06  4.3392  173/A/NBP/2019\n",
      "             mid\n",
      "count  21.000000\n",
      "mean    4.354133\n",
      "std     0.021227\n",
      "min     4.326200\n",
      "25%     4.339200\n",
      "50%     4.341900\n",
      "75%     4.373600\n",
      "max     4.389100\n",
      "  effectiveDate     mid              no\n",
      "0    2019-09-02  3.9819  169/A/NBP/2019\n",
      "1    2019-09-03  3.9882  170/A/NBP/2019\n",
      "2    2019-09-04  3.9414  171/A/NBP/2019\n",
      "3    2019-09-05  3.9330  172/A/NBP/2019\n",
      "4    2019-09-06  3.9315  173/A/NBP/2019\n",
      "             mid\n",
      "count  21.000000\n",
      "mean    3.954800\n",
      "std     0.034119\n",
      "min     3.911600\n",
      "25%     3.931500\n",
      "50%     3.936200\n",
      "75%     3.985600\n",
      "max     4.015400\n",
      "======================================\n"
     ]
    },
    {
     "data": {
      "text/plain": [
       "[<matplotlib.lines.Line2D at 0x1c7eb21c240>]"
      ]
     },
     "execution_count": 167,
     "metadata": {},
     "output_type": "execute_result"
    },
    {
     "data": {
      "image/png": "[encoded data removed]",
      "text/plain": [
       "<Figure size 432x288 with 1 Axes>"
      ]
     },
     "metadata": {
      "needs_background": "light"
     },
     "output_type": "display_data"
    }
   ],
   "source": [
    "#Zad1 \n",
    "\n",
    "import pandas as pd\n",
    "import requests\n",
    "import json\n",
    "import numpy as np\n",
    "import matplotlib.pyplot as plt\n",
    "import statsmodels.graphics.api as smg\n",
    "\n",
    "def readCurrencyBetweenDates(datetime1, datetime2, currency):\n",
    "    url = \"http://api.nbp.pl/api/exchangerates/rates/A/%s/%s/%s?format=json\"%(currency,datetime1,datetime2)\n",
    "    currency_req = requests.get(url)\n",
    "    currency_data = json.loads(currency_req.content.decode('ascii', 'ignore'))\n",
    "    return currency_data\n",
    "\n",
    "currency_Usd_Data = readCurrencyBetweenDates('2019-09-01','2019-09-30','USD')\n",
    "usd_rates = pd.DataFrame.from_dict(currency_Usd_Data['rates'])\n",
    "\n",
    "currency_euro_Data = readCurrencyBetweenDates('2019-09-01','2019-09-30','EUR')\n",
    "euro_rates = pd.DataFrame.from_dict(currency_euro_Data['rates'])\n",
    "\n",
    "print(euro_rates.head());\n",
    "print(euro_rates.describe());\n",
    "print(usd_rates.head());\n",
    "print(usd_rates.describe());\n",
    "\n",
    "\n",
    "usd_plot = usd_rates.set_index(['effectiveDate'])['mid']\n",
    "euro_plot = euro_rates.set_index(['effectiveDate'])['mid']\n",
    "\n",
    "print('======================================')\n",
    "\n",
    "plt.plot(usd_plot)\n",
    "plt.plot(euro_plot)\n",
    "\n",
    "#print(usd)\n",
    "#3\n",
    "#print(usd.describe())\n",
    "#usd.head()\n",
    "#dane_wykres = usd_dict.set_index(['effectiveDate'])['mid']\n",
    "\n",
    "\n",
    "\n"
   ]
  },
  {
   "cell_type": "code",
   "execution_count": null,
   "metadata": {},
   "outputs": [],
   "source": []
  },
  {
   "cell_type": "code",
   "execution_count": null,
   "metadata": {},
   "outputs": [],
   "source": []
  },
  {
   "cell_type": "code",
   "execution_count": null,
   "metadata": {},
   "outputs": [],
   "source": []
  },
  {
   "cell_type": "code",
   "execution_count": null,
   "metadata": {},
   "outputs": [],
   "source": []
  },
  {
   "cell_type": "code",
   "execution_count": null,
   "metadata": {},
   "outputs": [],
   "source": []
  },
  {
   "cell_type": "code",
   "execution_count": null,
   "metadata": {},
   "outputs": [],
   "source": []
  }
 ],
 "metadata": {
  "kernelspec": {
   "display_name": "Python 3",
   "language": "python",
   "name": "python3"
  },
  "language_info": {
   "codemirror_mode": {
    "name": "ipython",
    "version": 3
   },
   "file_extension": ".py",
   "mimetype": "text/x-python",
   "name": "python",
   "nbconvert_exporter": "python",
   "pygments_lexer": "ipython3",
   "version": "3.7.3"
  }
 },
 "nbformat": 4,
 "nbformat_minor": 2
}
